{
 "cells": [
  {
   "cell_type": "code",
   "execution_count": 2,
   "metadata": {
    "collapsed": true
   },
   "outputs": [],
   "source": [
    "import pandas as pd\n",
    "import numpy as np\n",
    "import seaborn as sns\n",
    "from pandas import Series, DataFrame\n",
    "from datetime import date\n",
    "import matplotlib.pyplot as plt"
   ]
  },
  {
   "cell_type": "code",
   "execution_count": 3,
   "metadata": {
    "collapsed": true
   },
   "outputs": [],
   "source": [
    "%matplotlib inline"
   ]
  },
  {
   "cell_type": "code",
   "execution_count": 4,
   "metadata": {
    "collapsed": false
   },
   "outputs": [],
   "source": [
    "race = pd.read_csv('.../races.csv')"
   ]
  },
  {
   "cell_type": "code",
   "execution_count": 5,
   "metadata": {
    "collapsed": true
   },
   "outputs": [],
   "source": [
    "runs = pd.read_csv('.../runs.csv')"
   ]
  },
  {
   "cell_type": "code",
   "execution_count": 6,
   "metadata": {
    "collapsed": true
   },
   "outputs": [],
   "source": [
    "race = race.drop(race.columns[[9,10,11,12,13,14,15,16,17,18,19,20,21,22,23,24,25,26,27,28,29,30,31,32,33,34,35,36]],axis=1)\n",
    "# prize and in game details should have no effect on pre-game betting "
   ]
  },
  {
   "cell_type": "code",
   "execution_count": 7,
   "metadata": {
    "collapsed": false
   },
   "outputs": [],
   "source": [
    "#runs.info()"
   ]
  },
  {
   "cell_type": "code",
   "execution_count": 8,
   "metadata": {
    "collapsed": true
   },
   "outputs": [],
   "source": [
    "# redefine raceclass\n",
    "\n",
    "race_classes=pd.DataFrame(race['horse_ratings'].str.split('-').tolist(),columns=['race_class_hi','race_class_lo'])\n",
    "new_race=pd.concat([race,race_classes],axis=1)"
   ]
  },
  {
   "cell_type": "code",
   "execution_count": 9,
   "metadata": {
    "collapsed": true
   },
   "outputs": [],
   "source": [
    "def rc(x):\n",
    "    \n",
    "    for i in xrange(len(new_race)):\n",
    "        if x.values[i]=='G':\n",
    "            return 'G'\n",
    "        elif x.values[i][-1]=='+':\n",
    "            return 1\n",
    "        elif 41<=int(x.values[i])<=60:\n",
    "            return 4\n",
    "        elif 61<=int(x.values[i])<=80:\n",
    "            return 3\n",
    "        elif 81<=int(x.values[i])<=100:\n",
    "            return 2\n",
    "        elif 101<=int(x.values[i])<=120:\n",
    "            return 1\n",
    "        else:\n",
    "            return 5"
   ]
  },
  {
   "cell_type": "code",
   "execution_count": 10,
   "metadata": {
    "collapsed": false
   },
   "outputs": [],
   "source": [
    "new_race['rcc']=pd.DataFrame(new_race['race_class_hi']).apply(rc,axis=1)"
   ]
  },
  {
   "cell_type": "code",
   "execution_count": 11,
   "metadata": {
    "collapsed": false
   },
   "outputs": [],
   "source": [
    "# change the 'date' column into datetime format\n",
    "new_race['date']=pd.to_datetime(new_race['date'])"
   ]
  },
  {
   "cell_type": "code",
   "execution_count": 12,
   "metadata": {
    "collapsed": false
   },
   "outputs": [],
   "source": [
    "raceST = new_race[new_race['venue']=='ST']\n",
    "raceHV = new_race[new_race['venue']=='HV']"
   ]
  },
  {
   "cell_type": "code",
   "execution_count": 13,
   "metadata": {
    "collapsed": false
   },
   "outputs": [],
   "source": [
    "raceST_turf = raceST[raceST['surface']==0]\n",
    "raceST_dirt = raceST[raceST['surface']==1]\n",
    "# there is no dirt course in Happy Valley"
   ]
  },
  {
   "cell_type": "code",
   "execution_count": null,
   "metadata": {
    "collapsed": false
   },
   "outputs": [],
   "source": []
  },
  {
   "cell_type": "code",
   "execution_count": 14,
   "metadata": {
    "collapsed": true
   },
   "outputs": [],
   "source": [
    "run = pd.merge(new_race,runs,on='race_id')"
   ]
  },
  {
   "cell_type": "code",
   "execution_count": 15,
   "metadata": {
    "collapsed": true
   },
   "outputs": [],
   "source": [
    "def pos1_3(x):\n",
    "    if x==1:\n",
    "        return 1\n",
    "    elif x==2:\n",
    "        return 1\n",
    "    elif x==3:\n",
    "        return 1\n",
    "    else:\n",
    "        return 0"
   ]
  },
  {
   "cell_type": "code",
   "execution_count": 16,
   "metadata": {
    "collapsed": true
   },
   "outputs": [],
   "source": [
    "run['position1_3']=runs['result'].apply(pos1_3)\n",
    "# prepare for place, triple-trio"
   ]
  },
  {
   "cell_type": "code",
   "execution_count": 17,
   "metadata": {
    "collapsed": true
   },
   "outputs": [],
   "source": [
    "def rest(run):\n",
    "    run['horse_rest_days']=(run['date'].shift(-1)-run['date']).shift(1)\n",
    "    return run"
   ]
  },
  {
   "cell_type": "code",
   "execution_count": 18,
   "metadata": {
    "collapsed": false
   },
   "outputs": [],
   "source": [
    "run=run.sort_values(['horse_id','date'])"
   ]
  },
  {
   "cell_type": "code",
   "execution_count": 19,
   "metadata": {
    "collapsed": false
   },
   "outputs": [],
   "source": [
    "run=run.groupby(['horse_id']).apply(rest)"
   ]
  },
  {
   "cell_type": "code",
   "execution_count": 20,
   "metadata": {
    "collapsed": false
   },
   "outputs": [],
   "source": [
    "run['horse_rest_days'].fillna('50 days',inplace=True)\n",
    "# consider Nan indicates that race is the first of the season for the horse, which here generalise its rest is 50 days"
   ]
  },
  {
   "cell_type": "code",
   "execution_count": 21,
   "metadata": {
    "collapsed": false
   },
   "outputs": [],
   "source": [
    "run['horse_rest_days']=[int(i.days) for i in (run.horse_rest_days)]\n",
    "# delete words days and change into int type"
   ]
  },
  {
   "cell_type": "code",
   "execution_count": 22,
   "metadata": {
    "collapsed": false
   },
   "outputs": [
    {
     "data": {
      "text/html": [
       "<div>\n",
       "<table border=\"1\" class=\"dataframe\">\n",
       "  <thead>\n",
       "    <tr style=\"text-align: right;\">\n",
       "      <th></th>\n",
       "      <th>race_id</th>\n",
       "      <th>date</th>\n",
       "      <th>venue</th>\n",
       "      <th>race_no</th>\n",
       "      <th>config</th>\n",
       "      <th>surface</th>\n",
       "      <th>distance</th>\n",
       "      <th>going</th>\n",
       "      <th>horse_ratings</th>\n",
       "      <th>race_class_hi</th>\n",
       "      <th>...</th>\n",
       "      <th>time4</th>\n",
       "      <th>time5</th>\n",
       "      <th>time6</th>\n",
       "      <th>finish_time</th>\n",
       "      <th>win_odds</th>\n",
       "      <th>place_odds</th>\n",
       "      <th>trainer_id</th>\n",
       "      <th>jockey_id</th>\n",
       "      <th>position1_3</th>\n",
       "      <th>horse_rest_days</th>\n",
       "    </tr>\n",
       "  </thead>\n",
       "  <tbody>\n",
       "    <tr>\n",
       "      <th>42543</th>\n",
       "      <td>3396</td>\n",
       "      <td>2001-11-04</td>\n",
       "      <td>ST</td>\n",
       "      <td>2</td>\n",
       "      <td>A</td>\n",
       "      <td>0</td>\n",
       "      <td>1200</td>\n",
       "      <td>GOOD</td>\n",
       "      <td>80-60</td>\n",
       "      <td>80</td>\n",
       "      <td>...</td>\n",
       "      <td>NaN</td>\n",
       "      <td>NaN</td>\n",
       "      <td>NaN</td>\n",
       "      <td>72.08</td>\n",
       "      <td>34.0</td>\n",
       "      <td>10.0</td>\n",
       "      <td>63</td>\n",
       "      <td>21</td>\n",
       "      <td>0</td>\n",
       "      <td>50</td>\n",
       "    </tr>\n",
       "    <tr>\n",
       "      <th>43723</th>\n",
       "      <td>3489</td>\n",
       "      <td>2001-12-09</td>\n",
       "      <td>ST</td>\n",
       "      <td>5</td>\n",
       "      <td>A+3</td>\n",
       "      <td>0</td>\n",
       "      <td>1200</td>\n",
       "      <td>GOOD</td>\n",
       "      <td>80-60</td>\n",
       "      <td>80</td>\n",
       "      <td>...</td>\n",
       "      <td>NaN</td>\n",
       "      <td>NaN</td>\n",
       "      <td>NaN</td>\n",
       "      <td>70.62</td>\n",
       "      <td>76.0</td>\n",
       "      <td>11.0</td>\n",
       "      <td>63</td>\n",
       "      <td>40</td>\n",
       "      <td>0</td>\n",
       "      <td>35</td>\n",
       "    </tr>\n",
       "    <tr>\n",
       "      <th>47509</th>\n",
       "      <td>3794</td>\n",
       "      <td>2002-06-02</td>\n",
       "      <td>ST</td>\n",
       "      <td>1</td>\n",
       "      <td>B</td>\n",
       "      <td>0</td>\n",
       "      <td>1200</td>\n",
       "      <td>GOOD TO FIRM</td>\n",
       "      <td>60-40</td>\n",
       "      <td>60</td>\n",
       "      <td>...</td>\n",
       "      <td>NaN</td>\n",
       "      <td>NaN</td>\n",
       "      <td>NaN</td>\n",
       "      <td>71.29</td>\n",
       "      <td>39.0</td>\n",
       "      <td>8.7</td>\n",
       "      <td>73</td>\n",
       "      <td>21</td>\n",
       "      <td>0</td>\n",
       "      <td>175</td>\n",
       "    </tr>\n",
       "    <tr>\n",
       "      <th>48016</th>\n",
       "      <td>3835</td>\n",
       "      <td>2002-06-23</td>\n",
       "      <td>ST</td>\n",
       "      <td>6</td>\n",
       "      <td>A</td>\n",
       "      <td>0</td>\n",
       "      <td>1200</td>\n",
       "      <td>GOOD TO FIRM</td>\n",
       "      <td>60-40</td>\n",
       "      <td>60</td>\n",
       "      <td>...</td>\n",
       "      <td>NaN</td>\n",
       "      <td>NaN</td>\n",
       "      <td>NaN</td>\n",
       "      <td>71.43</td>\n",
       "      <td>99.0</td>\n",
       "      <td>22.0</td>\n",
       "      <td>73</td>\n",
       "      <td>40</td>\n",
       "      <td>0</td>\n",
       "      <td>21</td>\n",
       "    </tr>\n",
       "    <tr>\n",
       "      <th>48647</th>\n",
       "      <td>3886</td>\n",
       "      <td>2002-07-14</td>\n",
       "      <td>ST</td>\n",
       "      <td>3</td>\n",
       "      <td>B+2</td>\n",
       "      <td>0</td>\n",
       "      <td>1600</td>\n",
       "      <td>GOOD TO FIRM</td>\n",
       "      <td>60-40</td>\n",
       "      <td>60</td>\n",
       "      <td>...</td>\n",
       "      <td>23.61</td>\n",
       "      <td>NaN</td>\n",
       "      <td>NaN</td>\n",
       "      <td>96.74</td>\n",
       "      <td>36.0</td>\n",
       "      <td>9.2</td>\n",
       "      <td>73</td>\n",
       "      <td>177</td>\n",
       "      <td>0</td>\n",
       "      <td>21</td>\n",
       "    </tr>\n",
       "  </tbody>\n",
       "</table>\n",
       "<p>5 rows × 50 columns</p>\n",
       "</div>"
      ],
      "text/plain": [
       "       race_id       date venue  race_no config  surface  distance  \\\n",
       "42543     3396 2001-11-04    ST        2      A        0      1200   \n",
       "43723     3489 2001-12-09    ST        5    A+3        0      1200   \n",
       "47509     3794 2002-06-02    ST        1      B        0      1200   \n",
       "48016     3835 2002-06-23    ST        6      A        0      1200   \n",
       "48647     3886 2002-07-14    ST        3    B+2        0      1600   \n",
       "\n",
       "              going horse_ratings race_class_hi       ...        time4 time5  \\\n",
       "42543          GOOD         80-60            80       ...          NaN   NaN   \n",
       "43723          GOOD         80-60            80       ...          NaN   NaN   \n",
       "47509  GOOD TO FIRM         60-40            60       ...          NaN   NaN   \n",
       "48016  GOOD TO FIRM         60-40            60       ...          NaN   NaN   \n",
       "48647  GOOD TO FIRM         60-40            60       ...        23.61   NaN   \n",
       "\n",
       "       time6  finish_time  win_odds  place_odds  trainer_id  jockey_id  \\\n",
       "42543    NaN        72.08      34.0        10.0          63         21   \n",
       "43723    NaN        70.62      76.0        11.0          63         40   \n",
       "47509    NaN        71.29      39.0         8.7          73         21   \n",
       "48016    NaN        71.43      99.0        22.0          73         40   \n",
       "48647    NaN        96.74      36.0         9.2          73        177   \n",
       "\n",
       "      position1_3 horse_rest_days  \n",
       "42543           0              50  \n",
       "43723           0              35  \n",
       "47509           0             175  \n",
       "48016           0              21  \n",
       "48647           0              21  \n",
       "\n",
       "[5 rows x 50 columns]"
      ]
     },
     "execution_count": 22,
     "metadata": {},
     "output_type": "execute_result"
    }
   ],
   "source": [
    "run.head()"
   ]
  },
  {
   "cell_type": "code",
   "execution_count": 23,
   "metadata": {
    "collapsed": false
   },
   "outputs": [
    {
     "data": {
      "text/plain": [
       "1200    24697\n",
       "1400    14565\n",
       "1650    13253\n",
       "1000     8524\n",
       "1600     8329\n",
       "1800     7320\n",
       "2000     1463\n",
       "2200     1034\n",
       "2400      262\n",
       "Name: distance, dtype: int64"
      ]
     },
     "execution_count": 23,
     "metadata": {},
     "output_type": "execute_result"
    }
   ],
   "source": [
    "run['distance'].value_counts()\n",
    "# lets focus on 1200m races"
   ]
  },
  {
   "cell_type": "code",
   "execution_count": 24,
   "metadata": {
    "collapsed": false
   },
   "outputs": [
    {
     "data": {
      "text/plain": [
       "4    28324\n",
       "3    23416\n",
       "5    11409\n",
       "2     8632\n",
       "1     4192\n",
       "G     3474\n",
       "Name: rcc, dtype: int64"
      ]
     },
     "execution_count": 24,
     "metadata": {},
     "output_type": "execute_result"
    }
   ],
   "source": [
    "run['rcc'].value_counts()\n",
    "# lets focus on class 4"
   ]
  },
  {
   "cell_type": "code",
   "execution_count": 25,
   "metadata": {
    "collapsed": false
   },
   "outputs": [],
   "source": [
    "run_1200 = run[run['distance']==1200]\n",
    "run_1200_4 = run_1200[run_1200['rcc']==4]\n",
    "run_1200_4_turf = run_1200_4[run_1200_4['surface']==1]\n",
    "\n",
    "# class 4 is chosen because of the following reason:\n",
    "# 1. it was which most games held\n",
    "# 2. since these jockeys and trainer are based in HK, they would less likely be one-time candidates."
   ]
  },
  {
   "cell_type": "code",
   "execution_count": 26,
   "metadata": {
    "collapsed": false
   },
   "outputs": [],
   "source": [
    "# Data preparation for WIN and 3T prediction"
   ]
  },
  {
   "cell_type": "code",
   "execution_count": 27,
   "metadata": {
    "collapsed": false
   },
   "outputs": [],
   "source": [
    "race_ML = run_1200_4_turf.drop(run_1200_4_turf.columns[[0,1,2,3,4,5,6,7,8,9,10,11,13,14,16,17,25,26,27,28,29,30,31,32,33,34,35,36,37,38,39,40,41,42,43]],axis=1)\n",
    "# in game details should have no effect on pre-game betting "
   ]
  },
  {
   "cell_type": "code",
   "execution_count": 28,
   "metadata": {
    "collapsed": false
   },
   "outputs": [
    {
     "data": {
      "text/plain": [
       "<seaborn.axisgrid.FacetGrid at 0xca5c940>"
      ]
     },
     "execution_count": 28,
     "metadata": {},
     "output_type": "execute_result"
    },
    {
     "data": {
      "image/png": "[encoded data removed]",
      "text/plain": [
       "<matplotlib.figure.Figure at 0x9ce9c88>"
      ]
     },
     "metadata": {},
     "output_type": "display_data"
    }
   ],
   "source": [
    "sns.factorplot('trainer_id',hue='position1_3',kind='count',data=race_ML,size=6, aspect=1)"
   ]
  },
  {
   "cell_type": "code",
   "execution_count": 29,
   "metadata": {
    "collapsed": false
   },
   "outputs": [
    {
     "data": {
      "text/plain": [
       "<seaborn.axisgrid.FacetGrid at 0xcf0be10>"
      ]
     },
     "execution_count": 29,
     "metadata": {},
     "output_type": "execute_result"
    },
    {
     "data": {
      "image/png": "[encoded data removed]",
      "text/plain": [
       "<matplotlib.figure.Figure at 0xcf0bb00>"
      ]
     },
     "metadata": {},
     "output_type": "display_data"
    }
   ],
   "source": [
    "sns.factorplot('jockey_id',hue='position1_3',data=race_ML,size=20, aspect=1,kind='count')"
   ]
  },
  {
   "cell_type": "code",
   "execution_count": 41,
   "metadata": {
    "collapsed": false
   },
   "outputs": [],
   "source": [
    "race_ML=race_ML.dropna()\n",
    "y_won = race_ML['won']\n",
    "y_position1_3 = race_ML['position1_3']\n",
    "X=race_ML.drop(race_ML.columns[[1,13]],axis=1)"
   ]
  },
  {
   "cell_type": "code",
   "execution_count": 37,
   "metadata": {
    "collapsed": false
   },
   "outputs": [],
   "source": [
    "from sklearn.linear_model import LogisticRegression\n",
    "from sklearn.model_selection import train_test_split\n",
    "from sklearn import metrics"
   ]
  },
  {
   "cell_type": "code",
   "execution_count": 42,
   "metadata": {
    "collapsed": false
   },
   "outputs": [],
   "source": [
    "X_won=pd.get_dummies(X)"
   ]
  },
  {
   "cell_type": "code",
   "execution_count": 39,
   "metadata": {
    "collapsed": false
   },
   "outputs": [],
   "source": [
    "lg=LogisticRegression()"
   ]
  },
  {
   "cell_type": "code",
   "execution_count": 45,
   "metadata": {
    "collapsed": false
   },
   "outputs": [],
   "source": [
    "X_train,X_test,Y_train,Y_test= train_test_split(X_won,y_won)"
   ]
  },
  {
   "cell_type": "code",
   "execution_count": 49,
   "metadata": {
    "collapsed": false
   },
   "outputs": [
    {
     "data": {
      "text/plain": [
       "LogisticRegression(C=1.0, class_weight=None, dual=False, fit_intercept=True,\n",
       "          intercept_scaling=1, max_iter=100, multi_class='ovr', n_jobs=1,\n",
       "          penalty='l2', random_state=None, solver='liblinear', tol=0.0001,\n",
       "          verbose=0, warm_start=False)"
      ]
     },
     "execution_count": 49,
     "metadata": {},
     "output_type": "execute_result"
    }
   ],
   "source": [
    "lg.fit(X_train,Y_train)"
   ]
  },
  {
   "cell_type": "code",
   "execution_count": 50,
   "metadata": {
    "collapsed": false
   },
   "outputs": [],
   "source": [
    "won_prediction = lg.predict(X_test)"
   ]
  },
  {
   "cell_type": "code",
   "execution_count": 51,
   "metadata": {
    "collapsed": false
   },
   "outputs": [
    {
     "name": "stdout",
     "output_type": "stream",
     "text": [
      "0.923076923077\n"
     ]
    }
   ],
   "source": [
    "print metrics.accuracy_score(Y_test,won_prediction)"
   ]
  },
  {
   "cell_type": "code",
   "execution_count": 53,
   "metadata": {
    "collapsed": false
   },
   "outputs": [],
   "source": [
    "lg1=LogisticRegression()"
   ]
  },
  {
   "cell_type": "code",
   "execution_count": 67,
   "metadata": {
    "collapsed": false
   },
   "outputs": [],
   "source": [
    "X_train1,X_test1,Y_train1,Y_test1= train_test_split(X_won,y_position1_3,test_size=0.4)"
   ]
  },
  {
   "cell_type": "code",
   "execution_count": 68,
   "metadata": {
    "collapsed": false
   },
   "outputs": [
    {
     "data": {
      "text/plain": [
       "LogisticRegression(C=1.0, class_weight=None, dual=False, fit_intercept=True,\n",
       "          intercept_scaling=1, max_iter=100, multi_class='ovr', n_jobs=1,\n",
       "          penalty='l2', random_state=None, solver='liblinear', tol=0.0001,\n",
       "          verbose=0, warm_start=False)"
      ]
     },
     "execution_count": 68,
     "metadata": {},
     "output_type": "execute_result"
    }
   ],
   "source": [
    "lg1.fit(X_train1,Y_train1)"
   ]
  },
  {
   "cell_type": "code",
   "execution_count": 69,
   "metadata": {
    "collapsed": true
   },
   "outputs": [],
   "source": [
    "pos1_3_prediction = lg1.predict(X_test1)"
   ]
  },
  {
   "cell_type": "code",
   "execution_count": 70,
   "metadata": {
    "collapsed": false
   },
   "outputs": [
    {
     "name": "stdout",
     "output_type": "stream",
     "text": [
      "0.731782945736\n"
     ]
    }
   ],
   "source": [
    "print metrics.accuracy_score(Y_test1,pos1_3_prediction)"
   ]
  },
  {
   "cell_type": "code",
   "execution_count": null,
   "metadata": {
    "collapsed": false
   },
   "outputs": [],
   "source": []
  },
  {
   "cell_type": "code",
   "execution_count": null,
   "metadata": {
    "collapsed": false
   },
   "outputs": [],
   "source": []
  },
  {
   "cell_type": "code",
   "execution_count": null,
   "metadata": {
    "collapsed": false
   },
   "outputs": [],
   "source": []
  },
  {
   "cell_type": "code",
   "execution_count": null,
   "metadata": {
    "collapsed": false
   },
   "outputs": [],
   "source": []
  },
  {
   "cell_type": "code",
   "execution_count": null,
   "metadata": {
    "collapsed": false
   },
   "outputs": [],
   "source": []
  },
  {
   "cell_type": "code",
   "execution_count": null,
   "metadata": {
    "collapsed": false
   },
   "outputs": [],
   "source": []
  },
  {
   "cell_type": "code",
   "execution_count": null,
   "metadata": {
    "collapsed": false
   },
   "outputs": [],
   "source": []
  },
  {
   "cell_type": "code",
   "execution_count": null,
   "metadata": {
    "collapsed": false
   },
   "outputs": [],
   "source": []
  }
 ],
 "metadata": {
  "kernelspec": {
   "display_name": "Python 2",
   "language": "python",
   "name": "python2"
  },
  "language_info": {
   "codemirror_mode": {
    "name": "ipython",
    "version": 2
   },
   "file_extension": ".py",
   "mimetype": "text/x-python",
   "name": "python",
   "nbconvert_exporter": "python",
   "pygments_lexer": "ipython2",
   "version": "2.7.11"
  }
 },
 "nbformat": 4,
 "nbformat_minor": 0
}
